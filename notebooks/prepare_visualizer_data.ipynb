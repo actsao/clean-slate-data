{
 "cells": [
  {
   "cell_type": "markdown",
   "metadata": {
    "id": "aRcvXhinEhni"
   },
   "source": [
    "# Data Preparation for the Visualizer"
   ]
  },
  {
   "cell_type": "markdown",
   "metadata": {},
   "source": [
    "The primary purpose of this notebook is to ensure that changes to the cleaned data files (ie. clean_northwestern.csv) do not automatically affect the visualizer. The copies of the data files used by the visualizer can only be altered by running this notebook.\n",
    "\n",
    "Additionally, some extra columns may be added that are helpful for the visualizer. These adjustments are not intended to be a step in the data pipeline."
   ]
  },
  {
   "cell_type": "code",
   "execution_count": 1,
   "metadata": {},
   "outputs": [],
   "source": [
    "import requests\n",
    "import pandas as pd"
   ]
  },
  {
   "cell_type": "code",
   "execution_count": 2,
   "metadata": {},
   "outputs": [],
   "source": [
    "# Create dataframes for Northwest, Suffolk, and Middlesex\n",
    "nw = pd.read_csv('../../data/cleaned/clean_northwestern.csv')\n",
    "sf = pd.read_csv('../../data/cleaned/clean_suffolk.csv')\n",
    "pd.set_option(\"display.max.columns\", None)"
   ]
  },
  {
   "cell_type": "code",
   "execution_count": 3,
   "metadata": {},
   "outputs": [],
   "source": [
    "# Add columns for Northwest: Incident Sex, Incident Murder\n",
    "nw['Incident Sex'] = nw.groupby(['Person ID', 'Offense Date'])['sex'].transform('max')\n",
    "nw['Incident Murder'] = nw.groupby(['Person ID', 'Offense Date'])['murder'].transform('max')"
   ]
  },
  {
   "cell_type": "code",
   "execution_count": 4,
   "metadata": {},
   "outputs": [
    {
     "data": {
      "text/plain": [
       "array([True, False], dtype=object)"
      ]
     },
     "execution_count": 4,
     "metadata": {},
     "output_type": "execute_result"
    }
   ],
   "source": [
    "sf.loc[(sf['guilty'] == '0'), 'guilty'] = False\n",
    "sf.loc[(sf['guilty'] == 'False'), 'guilty'] = False\n",
    "sf.loc[(sf['guilty'] == '1'), 'guilty'] = True\n",
    "sf.loc[(sf['guilty'] == 'True'), 'guilty'] = True\n",
    "sf['guilty'].unique()"
   ]
  },
  {
   "cell_type": "code",
   "execution_count": 5,
   "metadata": {},
   "outputs": [],
   "source": [
    "# Add columns for Suffolk: Incident_Guilty_or_missing, Inc_Expungeable_Attempts_Are, Incident Sex, Incident Murder\n",
    "sf.loc[(sf['guilty'] == '0'), 'guilty'] = False\n",
    "sf.loc[(sf['guilty'] == 'False'), 'guilty'] = False\n",
    "sf.loc[(sf['guilty'] == '1'), 'guilty'] = True\n",
    "sf.loc[(sf['guilty'] == 'True'), 'guilty'] = True\n",
    "sf.loc[(sf['Description Disposition Reason'].isnull() & (sf['Disposition'].isnull())), 'guilty'] = -1\n",
    "sf['Incident_Guilty_or_missing'] = sf.groupby(['Person ID', 'Offense Date'])['guilty'].transform('max')\n",
    "\n",
    "sf['Inc_Expungeable_Attempts_Are'] = sf.groupby(['Person ID', 'Offense Date'])['ExpAtt'].transform('min')\n",
    "\n",
    "sf['Incident Sex'] = sf.groupby(['Person ID', 'Offense Date'])['sex'].transform('max')\n",
    "\n",
    "sf['Incident Murder'] = sf.groupby(['Person ID', 'Offense Date'])['murder'].transform('max')"
   ]
  },
  {
   "cell_type": "code",
   "execution_count": 6,
   "metadata": {},
   "outputs": [],
   "source": [
    "# Save the updated dataframes as csv files, overwriting them in the processed data folder\n",
    "nw_file = nw.to_csv('../../data/cleaned/visualizer_northwestern.csv', index=False)\n",
    "sf_file = sf.to_csv('../../data/cleaned/visualizer_suffolk.csv', index=False)"
   ]
  },
  {
   "cell_type": "code",
   "execution_count": null,
   "metadata": {},
   "outputs": [],
   "source": []
  }
 ],
 "metadata": {
  "colab": {
   "collapsed_sections": [],
   "name": "sex_offenses.ipynb",
   "provenance": []
  },
  "kernelspec": {
   "display_name": "Python 3",
   "language": "python",
   "name": "python3"
  },
  "language_info": {
   "codemirror_mode": {
    "name": "ipython",
    "version": 3
   },
   "file_extension": ".py",
   "mimetype": "text/x-python",
   "name": "python",
   "nbconvert_exporter": "python",
   "pygments_lexer": "ipython3",
   "version": "3.9.0"
  }
 },
 "nbformat": 4,
 "nbformat_minor": 4
}
