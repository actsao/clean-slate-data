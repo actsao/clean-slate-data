{
 "cells": [
  {
   "cell_type": "markdown",
   "metadata": {},
   "source": [
    "# Data Preparation for the Interactive Analysis Layer"
   ]
  },
  {
   "cell_type": "markdown",
   "metadata": {},
   "source": [
    "The questions provided by Citizens for Juvenile Justice share an underlying structure: given multiple categories of incident (for example, incidents which are 100J eligible and have a non-guilty disposition), and a maximum number of incidents per category, how many individuals possess only incidents that belong to one of the given categories and do not have too many incidents in any of those categories?\n",
    "\n",
    "Answering a question with this structure requires a holistic view of all of an individual's recorded incidents. For the interactive analysis layer to be able to process questions of this structure efficiently, that large amount of per-individual information, spanning multiple dataframe rows and columns, needs to be condensed.\n",
    "\n",
    "The output files of this notebook contain a single column, with each row representing a single individual (cases in Middlesex). These values are **all-incident codes.** Each all-incident code is a string of digits that can only be 1 or 0, and is made up of six-digit single **incident codes.**\n",
    "\n",
    "Take the example all-incident code: 100110011001. It contains 12 digits, so this individual has two 6-digit incidents. Their individual incident codes are 100110 and 011001.\n",
    "\n",
    ">If the first digit is 1, the individual was a juvenile at the time of the incident.\n",
    "\n",
    ">If the second digit is 1, every offense in the incident is considered eligible under 100J.\n",
    "\n",
    ">If the third digit is 1, the incident contains at least one sex or murder offense.\n",
    "\n",
    ">If the fourth digit is 1, the incident contains at least one offense with a guilty disposition.\n",
    "\n",
    ">If the fifth digit is 1, then the incident contains at least one offense with missing disposition data.\n",
    "\n",
    ">If the sixth digit is 1, then the incident contains at least one offense for which the waiting period has not yet finished.\n",
    "\n",
    "Incident code 100110 would be interpreted as a juvenile incident entirely expungeable by 100J with no sex or murder offenses, but at least one guilty disposition. It is missing some disposition data and the waiting period has already finished.\n",
    "\n",
    "Incident code 011001 would be interpreted as an adult incident with at least one offense non-expungeable by 100J, and at least one sex or murder offense. There are no guilty dispositions or missing dispositions, but the waiting period has not yet finished.\n",
    "\n",
    "---\n",
    "In addition to generating all-incident codes for the interactive analysis layer to use, the three specific questions provided by CfJJ are answered in this notebook for each region we have data for.\n",
    "\n",
    "**IMPORTANT**: dummy data is currently being used to determine which offenses are misdeameanors and which are felonies. Until that information has been properly derived, the distinction between individuals eligible today and individuals eligible in the future is not meaningful."
   ]
  },
  {
   "cell_type": "code",
   "execution_count": 354,
   "metadata": {},
   "outputs": [],
   "source": [
    "import requests\n",
    "import pandas as pd\n",
    "import numpy as np\n",
    "import re\n",
    "import copy"
   ]
  },
  {
   "cell_type": "code",
   "execution_count": 355,
   "metadata": {},
   "outputs": [],
   "source": [
    "# Create dataframes for Northwest, Suffolk, and Middlesex\n",
    "nw = pd.read_csv('../data/cleaned/clean_northwestern.csv', encoding='utf8',\n",
    "                    dtype={})\n",
    "sf = pd.read_csv('../data/cleaned/clean_suffolk.csv', encoding='utf8',\n",
    "                    dtype={})\n",
    "ms = pd.read_csv('../data/cleaned/clean_middlesex.csv', encoding='utf8',\n",
    "                    dtype={'Incident_Guilty_or_missing':str}, low_memory=False)\n",
    "pd.set_option(\"display.max.columns\", None)"
   ]
  },
  {
   "cell_type": "markdown",
   "metadata": {},
   "source": [
    "## Step 1: Additional Columns"
   ]
  },
  {
   "cell_type": "code",
   "execution_count": 356,
   "metadata": {},
   "outputs": [],
   "source": [
    "# Add column: 'Inc_Juvenile', so the information is found under the same column name in all regions\n",
    "ms['Inc_Juvenile'] = ms['JuvenileC']\n",
    "# Suffolk has no juvenile data; all incidents are treated as juvenile\n",
    "sf['Inc_Juvenile'] = True\n",
    "nw['Inc_Juvenile'] = nw['Age at Offense'] < 21"
   ]
  },
  {
   "cell_type": "code",
   "execution_count": 357,
   "metadata": {},
   "outputs": [],
   "source": [
    "# Middlesex has no personal identifier, but the 'Case Number' column functions as if it were a personal identifier\n",
    "# for the intents and purposes of this notebook. These adjustments allow Middlesex data to be processed by\n",
    "# the same functions that process Northwest and Suffolk data\n",
    "ms.rename(columns={'Case Number': 'Person ID'}, inplace=True)\n",
    "ms['Incidents per Person'] = 1"
   ]
  },
  {
   "cell_type": "code",
   "execution_count": 358,
   "metadata": {},
   "outputs": [],
   "source": [
    "# Add column: 'Inc_Felony' (boolean); TRUE if the incident contains at least one felony offense\n",
    "# This is dummy data; eventually this information will be implemented earlier in the data pipeline\n",
    "np.random.seed(42)\n",
    "for x in [nw, ms, sf]:\n",
    "    x['Inc_Felony'] = (np.random.randint(0,20, x.shape[0]))\n",
    "    x['Inc_Felony'] = x['Inc_Felony'] == 19\n",
    "    \n",
    "nw['Inc_Felony'] = nw.groupby(['Person ID', 'Offense Date'])['Inc_Felony'].transform('min')\n",
    "sf['Inc_Felony'] = sf.groupby(['Person ID', 'Offense Date'])['Inc_Felony'].transform('min')\n",
    "ms['Inc_Felony'] = ms.groupby(['Person ID'])['Inc_Felony'].transform('min')"
   ]
  },
  {
   "cell_type": "code",
   "execution_count": 359,
   "metadata": {},
   "outputs": [],
   "source": [
    "# Add column: 'Inc_Years_Remaining'; the number of years that must still pass before the incident may be eligible\n",
    "# That's a maximum of 3 years for a misdemeanor, and 7 years for a felony\n",
    "# Note that any incident for which the waiting period has already passed will have a value <= 0\n",
    "for x in [nw, ms, sf]:\n",
    "    x.loc[(x['Inc_Felony'] == True),['Inc_Years_Remaining']] = 7 - x['years_since_offense']\n",
    "    x.loc[(x['Inc_Felony'] == False),['Inc_Years_Remaining']] = 3 - x['years_since_offense']"
   ]
  },
  {
   "cell_type": "markdown",
   "metadata": {},
   "source": [
    "### Incident Codes"
   ]
  },
  {
   "cell_type": "code",
   "execution_count": 360,
   "metadata": {},
   "outputs": [],
   "source": [
    "def generateIncidentCode(row):\n",
    "    # This function returns a single incident code. For each digit position, a 1 indicates:\n",
    "    # First: incident occured at a juvenile age\n",
    "    # Second: all incident offenses are eligible for expungement under 100J\n",
    "    # Third: at least one incident offense is a sex or murder offense\n",
    "    # Fourth: at least one incident offense has a guilty disposition\n",
    "    # Fifth: at least one incident offense lacks all disposition data\n",
    "    # Sixth: not enough years have passed for the incident to be currently expungeable\n",
    "    \n",
    "    result = list('000000')\n",
    "    if row['Inc_Juvenile']:\n",
    "        result[0] = '1'\n",
    "    if row['Inc_Expungeable_Attempts_Are']:\n",
    "        result[1] = '1'\n",
    "    if row['Inc_Sex_or_Murder']:\n",
    "        result[2] = '1'\n",
    "    if row['Incident_Guilty_or_missing'] == 'True':\n",
    "        result[3] = '1'\n",
    "    if row['Inc_Missing_Any_Dispo']:\n",
    "        result[4] = '1'\n",
    "    if row['Inc_Years_Remaining'] > 0:\n",
    "        result[5] = '1'\n",
    "        \n",
    "    return ''.join(result)"
   ]
  },
  {
   "cell_type": "code",
   "execution_count": 361,
   "metadata": {},
   "outputs": [],
   "source": [
    "# Add column: 'Incident Code'\n",
    "for x in [nw, ms, sf]:\n",
    "    x['Incident Code'] = x.apply(lambda row: generateIncidentCode(row), axis=1)"
   ]
  },
  {
   "cell_type": "markdown",
   "metadata": {},
   "source": [
    "## Step 2: Reduce Dataframes Into All-Incident Codes (One Code per Individual)"
   ]
  },
  {
   "cell_type": "code",
   "execution_count": 362,
   "metadata": {},
   "outputs": [],
   "source": [
    "summaryFrames = [nw_summary, sf_summary, ms_summary]\n",
    "\n",
    "for count, x in enumerate([nw, sf, ms]):\n",
    "    summaryFrames[count] = (x.groupby(['Person ID', 'Offense Date'])['Incident Code'].first().reset_index())\n",
    "    summaryFrames[count]['All Incident Codes'] = summaryFrames[count].groupby(['Person ID'])['Incident Code'].transform(lambda y: ''.join(y))\n",
    "    summaryFrames[count].drop_duplicates(subset='Person ID', inplace=True)\n",
    "    summaryFrames[count].drop(columns=['Person ID', 'Offense Date', 'Incident Code'], inplace=True)"
   ]
  },
  {
   "cell_type": "markdown",
   "metadata": {},
   "source": [
    "## Step 3: Answers to questions provided by CFJJ"
   ]
  },
  {
   "cell_type": "code",
   "execution_count": 363,
   "metadata": {},
   "outputs": [],
   "source": [
    "# Given an all-incident code and the incident categories associated with a specific question, this function returns:\n",
    "# 0 if the individual is never eligible\n",
    "# 1 if the individual is eligible today and has no missing data\n",
    "# 2 if the individual is eligible today but has some missing disposition data\n",
    "# 3 if the individual will become eligible in the future and has no missing data\n",
    "# 4 if the individual will becoem eligible in the future but has some missing disposition data\n",
    "def determineEligibility(row, categories):\n",
    "    categoryList = copy.deepcopy(categories)\n",
    "    incidentString = row['All Incident Codes']\n",
    "    incidents = re.findall('......', incidentString)\n",
    "    eligibleToday = True\n",
    "    missingDispo = False\n",
    "    categoryFound = False\n",
    "    \n",
    "    for incident in incidents:\n",
    "        if incident[-1] == '1':\n",
    "            eligibleToday = False\n",
    "        if incident[-2] == '1':\n",
    "            missingDispo = True\n",
    "        \n",
    "        for category in categoryList:\n",
    "            categoryRegex = re.compile(category[1])\n",
    "            if categoryRegex.match(incident):\n",
    "                categoryFound = True\n",
    "                # The focused incident matches the focused category; decrement the category allotment\n",
    "                category[0] = category[0] - 1\n",
    "                if category[0] < 0:\n",
    "                    # If any category exceeds its allotment, this individual is never eligible\n",
    "                    return 0\n",
    "        # If the incident does not belong to any of the given categories, this individual is never eligible\n",
    "        if not categoryFound:\n",
    "            return 0\n",
    "        categoryFound = False\n",
    "    # If this point is reached, the individual is eligible, but may still need to wait for the 3 or 7 years to pass\n",
    "    if eligibleToday and not missingDispo:\n",
    "        return 1\n",
    "    elif eligibleToday and missingDispo:\n",
    "        return 2\n",
    "    elif not eligibleToday and not missingDispo:\n",
    "        return 3\n",
    "    elif not eligibleToday and missingDispo:\n",
    "        return 4\n",
    "    \n",
    "    # This point shouldn't ever be reachable\n",
    "    return -1"
   ]
  },
  {
   "cell_type": "code",
   "execution_count": 364,
   "metadata": {},
   "outputs": [],
   "source": [
    "def printAnswers(categories, region):\n",
    "    if region == 'nw':\n",
    "        regionName = 'Northwest'\n",
    "        df = nw_summary.copy()\n",
    "        unit = 'individuals'\n",
    "    elif region == 'sf':\n",
    "        regionName = 'Suffolk'\n",
    "        df = sf_summary.copy()\n",
    "        unit = 'individuals'\n",
    "    elif region == 'ms':\n",
    "        regionName = 'Middlesex'\n",
    "        df = ms_summary.copy()\n",
    "        unit = 'cases'\n",
    "    else:\n",
    "        print('Invalid region provided')\n",
    "        return\n",
    "    \n",
    "    df['Result'] = df.apply(lambda row: determineEligibility(row, categories), axis=1)\n",
    "    \n",
    "    neverEligible = (df['Result'].values == 0).sum()\n",
    "    eligibleNow = (df['Result'].values == 1).sum()\n",
    "    eligibleNowIncomplete = (df['Result'].values == 2).sum()\n",
    "    eligibleLater = (df['Result'].values == 3).sum()\n",
    "    eligibleLaterIncomplete = (df['Result'].values == 4).sum()\n",
    "    \n",
    "    print(regionName)\n",
    "    print(eligibleNow + eligibleNowIncomplete, unit, 'are eligible today.', eligibleNowIncomplete, 'of them have incomplete disposition data.')\n",
    "    print('An additional', eligibleLater + eligibleLaterIncomplete, unit, 'will become eligible after their waiting period has ended.', eligibleLaterIncomplete, 'of them have incomplete disposition data.')\n",
    "    print(neverEligible, unit, 'will never be eligible.\\n')"
   ]
  },
  {
   "cell_type": "markdown",
   "metadata": {},
   "source": [
    "### Using the answerQuestion Function\n",
    "\n",
    "To print the answers to any question of the CfJJ question structure discussed earlier, the question must be translated into a list that can be interpreted by the answerQuestions function.\n",
    "\n",
    "Each item in the list represents one of the question's incident categories. These items are themselves two-item lists; the first value is the maximum allowed number of incidents within that category before an individual is ineligible, and the second value contains a four-digit **category code** representing the demands of that particular question category.\n",
    "\n",
    "These four digits correspond exactly to the first four digits of an incident code, also discussed earlier. Each digit can be 1 or 0, but a period can be used to indicate both 1 and 0 are acceptable.\n",
    "\n",
    "For example, the first category of the first question from CfJJ indicates that an eligible individual may have up to two incidents that meet this criteria: individual was a juvenile, no offenses are ineligible under 100J, and at least one offense has a guilty disposition. Following the meanings of the digits in an incident code, the category code representing this criteria would be '11.1'. The first digit is one because it must be a juvenile incident; the second digit is 1 because it must be a 100J eligible incident; the third digit is a period because the critera does not make any demands regarding sex/murder offenses; the fourth digit is 1 because there must be a guilty disposition.\n",
    "\n",
    "Because the question allows up to 2 such incidents, this would be passed to answerQuestion as [2, '11.1']. A question can contain any number of these question categories.\n"
   ]
  },
  {
   "cell_type": "code",
   "execution_count": 365,
   "metadata": {},
   "outputs": [],
   "source": [
    "def answerQuestion(categories):\n",
    "    printAnswers(categories, 'nw')\n",
    "    printAnswers(categories, 'sf')\n",
    "    printAnswers(categories, 'ms')"
   ]
  },
  {
   "cell_type": "markdown",
   "metadata": {},
   "source": [
    "**Question 1**\n",
    "\n",
    "> Category 1: Up to 2 (Code 11.1)\n",
    ">> - Must be Juvenile\n",
    ">> - Must be fully expungeable by 100J\n",
    ">> - Must have at least one guilty disposition\n",
    "\n",
    "> Category 2: Up to 2 (Code 11.0)\n",
    ">> - Must be Juvenile\n",
    ">> - Must be fully expungeable by 100J\n",
    ">> - Must not have any guilty dispositions"
   ]
  },
  {
   "cell_type": "code",
   "execution_count": 366,
   "metadata": {},
   "outputs": [
    {
     "name": "stdout",
     "output_type": "stream",
     "text": [
      "Northwest\n",
      "980 individuals are eligible today. 34 of them have incomplete disposition data.\n",
      "An additional 386 individuals will become eligible after their waiting period has ended. 19 of them have incomplete disposition data.\n",
      "18151 individuals will never be eligible.\n",
      "\n",
      "Suffolk\n",
      "40728 individuals are eligible today. 5859 of them have incomplete disposition data.\n",
      "An additional 9168 individuals will become eligible after their waiting period has ended. 3263 of them have incomplete disposition data.\n",
      "40544 individuals will never be eligible.\n",
      "\n",
      "Middlesex\n",
      "2443 cases are eligible today. 0 of them have incomplete disposition data.\n",
      "An additional 767 cases will become eligible after their waiting period has ended. 0 of them have incomplete disposition data.\n",
      "160501 cases will never be eligible.\n",
      "\n"
     ]
    }
   ],
   "source": [
    "answerQuestion([[2, '11.1'], [2, '11.0']])"
   ]
  },
  {
   "cell_type": "markdown",
   "metadata": {},
   "source": [
    "**Question 2**\n",
    "\n",
    "> Category 1: Up to 2 (Code 1.01)\n",
    ">> - Must be Juvenile\n",
    ">> - Must not have any sex or murder offenses\n",
    ">> - Must have at least one guilty disposition\n",
    "\n",
    "> Category 2: Up to 2 (Code 1.00)\n",
    ">> - Must be Juvenile\n",
    ">> - Must not have any sex or murder offenses\n",
    ">> - Must not have any guilty dispositions"
   ]
  },
  {
   "cell_type": "code",
   "execution_count": 367,
   "metadata": {},
   "outputs": [
    {
     "name": "stdout",
     "output_type": "stream",
     "text": [
      "Northwest\n",
      "1510 individuals are eligible today. 47 of them have incomplete disposition data.\n",
      "An additional 610 individuals will become eligible after their waiting period has ended. 30 of them have incomplete disposition data.\n",
      "17397 individuals will never be eligible.\n",
      "\n",
      "Suffolk\n",
      "62112 individuals are eligible today. 7878 of them have incomplete disposition data.\n",
      "An additional 15376 individuals will become eligible after their waiting period has ended. 6406 of them have incomplete disposition data.\n",
      "12952 individuals will never be eligible.\n",
      "\n",
      "Middlesex\n",
      "4216 cases are eligible today. 0 of them have incomplete disposition data.\n",
      "An additional 1466 cases will become eligible after their waiting period has ended. 0 of them have incomplete disposition data.\n",
      "158029 cases will never be eligible.\n",
      "\n"
     ]
    }
   ],
   "source": [
    "answerQuestion([[2, '1.01'], [2, '1.00']])"
   ]
  },
  {
   "cell_type": "markdown",
   "metadata": {},
   "source": [
    "**Question 3**\n",
    "\n",
    "> Category 1: Must be 0 (Code 10.1)\n",
    ">> - Must be Juvenile\n",
    ">> - Must NOT be fully expungeable by 100J\n",
    ">> - Must have at least one guilty disposition\n",
    "\n",
    "> Category 2: Up to 4 (Code 1...)\n",
    ">> - Must be Juvenile"
   ]
  },
  {
   "cell_type": "code",
   "execution_count": 368,
   "metadata": {},
   "outputs": [
    {
     "name": "stdout",
     "output_type": "stream",
     "text": [
      "Northwest\n",
      "1357 individuals are eligible today. 46 of them have incomplete disposition data.\n",
      "An additional 567 individuals will become eligible after their waiting period has ended. 35 of them have incomplete disposition data.\n",
      "17593 individuals will never be eligible.\n",
      "\n",
      "Suffolk\n",
      "62486 individuals are eligible today. 8898 of them have incomplete disposition data.\n",
      "An additional 17184 individuals will become eligible after their waiting period has ended. 7843 of them have incomplete disposition data.\n",
      "10770 individuals will never be eligible.\n",
      "\n",
      "Middlesex\n",
      "4111 cases are eligible today. 0 of them have incomplete disposition data.\n",
      "An additional 1443 cases will become eligible after their waiting period has ended. 0 of them have incomplete disposition data.\n",
      "158157 cases will never be eligible.\n",
      "\n"
     ]
    }
   ],
   "source": [
    "answerQuestion([[0, '10.1'], [4, '1...']])"
   ]
  },
  {
   "cell_type": "markdown",
   "metadata": {},
   "source": [
    "## Step 4: Answers to questions provided by CfJJ (Alternate Method)"
   ]
  },
  {
   "cell_type": "markdown",
   "metadata": {},
   "source": [
    "The incident-code based approach used to answer the questions above is efficient and flexible, ideal for use by the interactive analysis layer. However, the approach is also complex enough to be prone to errors. As part of the testing to ensure the accuracy of the above method, the three questions provided by CfJJ are answered here using a different method not involving incident codes or regex pattern matching. The approach below is less flexible and efficient, but more straightforward to debug for accuracy.\n",
    "\n",
    "It is important that the answers given to each question above exactly match the answers given for the same questions below. A mismatch indicates that an error has been made and must be located."
   ]
  },
  {
   "cell_type": "code",
   "execution_count": 369,
   "metadata": {},
   "outputs": [],
   "source": [
    "# Given a dataframe with one row for each incident, these functions return\n",
    "# a slice of that dataframe containing incidents eligible under the specified question\n",
    "\n",
    "# QUESTION ONE\n",
    "def q1(df):\n",
    "    # Q1 Category 1: Juvenile Incident, 100J Eligible, Guilty (Up to 2)\n",
    "    df['Inc_C1'] = 0\n",
    "    df.loc[\n",
    "      (df['Inc_Juvenile'] == True) &\n",
    "      (df['Inc_Expungeable_Attempts_Are'] == True) &\n",
    "      (df['Incident_Guilty_or_missing'] == 'True'),\n",
    "      'Inc_C1'\n",
    "    ] = 1\n",
    "    df['C1_Per_Person'] = df.groupby(['Person ID'])['Inc_C1'].transform('sum')\n",
    "\n",
    "    # Q1 Category 2: Juvenile Incident, 100J Eligible, Not Guilty (Up to 2)\n",
    "    df['Inc_C2'] = 0\n",
    "    df.loc[\n",
    "      (df['Inc_Juvenile'] == True) &\n",
    "      (df['Inc_Expungeable_Attempts_Are'] == True) &\n",
    "      (df['Incident_Guilty_or_missing'] != 'True'),\n",
    "      'Inc_C2'\n",
    "    ] = 1\n",
    "    df['C2_Per_Person'] = df.groupby(['Person ID'])['Inc_C2'].transform('sum')\n",
    "\n",
    "    # Determine eligible individuals based on the per-category caps\n",
    "    eligible = df.loc[\n",
    "      (df['C1_Per_Person'] <= 2) &\n",
    "      (df['C2_Per_Person'] <= 2) &\n",
    "      ((df['C1_Per_Person'] + df['C2_Per_Person']) == df['Incidents per Person'])\n",
    "    ]\n",
    "    \n",
    "    return eligible\n",
    "\n",
    "# QUESTION TWO\n",
    "def q2(df):\n",
    "    # Q2 Category 1: Juvenile Incident, Not Sex/Murder, Guilty (Up to 2)\n",
    "    df['Inc_C1'] = 0\n",
    "    df.loc[\n",
    "      (df['Inc_Juvenile'] == True) &\n",
    "      (df['Inc_Sex_or_Murder'] == False) &\n",
    "      (df['Incident_Guilty_or_missing'] == 'True'),\n",
    "      'Inc_C1'\n",
    "    ] = 1\n",
    "    df['C1_Per_Person'] = df.groupby(['Person ID'])['Inc_C1'].transform('sum')\n",
    "\n",
    "    # Q2 Category 2: Juvenile Incident, Not Sex/Murder, Not Guilty (Up to 2)\n",
    "    df['Inc_C2'] = 0\n",
    "    df.loc[\n",
    "      (df['Inc_Juvenile'] == True) &\n",
    "      (df['Inc_Sex_or_Murder'] == False) &\n",
    "      (df['Incident_Guilty_or_missing'] != 'True'),\n",
    "      'Inc_C2'\n",
    "    ] = 1\n",
    "    df['C2_Per_Person'] = df.groupby(['Person ID'])['Inc_C2'].transform('sum')\n",
    "\n",
    "    # Determine eligible individuals based on the per-category caps\n",
    "    eligible = df.loc[\n",
    "      (df['C1_Per_Person'] <= 2) &\n",
    "      (df['C2_Per_Person'] <= 2) &\n",
    "      ((df['C1_Per_Person'] + df['C2_Per_Person']) == df['Incidents per Person'])\n",
    "    ]\n",
    "    \n",
    "    return eligible\n",
    "\n",
    "\n",
    "# QUESTION THREE\n",
    "def q3(df):\n",
    "    # Q3 Category 1: Juvenile Incident, Anything that isn't both 100J ineligible and guilty (Up to 4)\n",
    "    df['Inc_C1'] = 0\n",
    "    df.loc[\n",
    "      (df['Inc_Juvenile'] == True) &\n",
    "      ((df['Inc_Expungeable_Attempts_Are'] == True) | (df['Incident_Guilty_or_missing'] != 'True')),\n",
    "      'Inc_C1'\n",
    "    ] = 1\n",
    "    df['C1_Per_Person'] = df.groupby(['Person ID'])['Inc_C1'].transform('sum')\n",
    "    \n",
    "    # Determine eligible individuals based on the per-category caps\n",
    "    eligible = df.loc[\n",
    "      (df['C1_Per_Person'] <= 4) &\n",
    "      (df['C1_Per_Person'] == df['Incidents per Person'])\n",
    "    ]\n",
    "\n",
    "    return eligible"
   ]
  },
  {
   "cell_type": "code",
   "execution_count": 370,
   "metadata": {},
   "outputs": [
    {
     "name": "stdout",
     "output_type": "stream",
     "text": [
      "QUESTION 1 \n",
      "\n",
      "Northwest\n",
      "980 individuals are eligible today. 34 of them have incomplete disposition data.\n",
      "An additional 386 individuals will become eligible after their waiting period has ended. 19 of them have incomplete disposition data.\n",
      "18151 individuals will never be eligible.\n",
      "\n",
      "Suffolk\n",
      "40728 individuals are eligible today. 5859 of them have incomplete disposition data.\n",
      "An additional 9168 individuals will become eligible after their waiting period has ended. 3263 of them have incomplete disposition data.\n",
      "40544 individuals will never be eligible.\n",
      "\n",
      "Middlesex\n",
      "2443 cases are eligible today. 0 of them have incomplete disposition data.\n",
      "An additional 767 cases will become eligible after their waiting period has ended. 0 of them have incomplete disposition data.\n",
      "160501 cases will never be eligible.\n",
      "\n",
      "QUESTION 2 \n",
      "\n",
      "Northwest\n",
      "1510 individuals are eligible today. 47 of them have incomplete disposition data.\n",
      "An additional 610 individuals will become eligible after their waiting period has ended. 30 of them have incomplete disposition data.\n",
      "17397 individuals will never be eligible.\n",
      "\n",
      "Suffolk\n",
      "62112 individuals are eligible today. 7878 of them have incomplete disposition data.\n",
      "An additional 15376 individuals will become eligible after their waiting period has ended. 6406 of them have incomplete disposition data.\n",
      "12952 individuals will never be eligible.\n",
      "\n",
      "Middlesex\n",
      "4216 cases are eligible today. 0 of them have incomplete disposition data.\n",
      "An additional 1466 cases will become eligible after their waiting period has ended. 0 of them have incomplete disposition data.\n",
      "158029 cases will never be eligible.\n",
      "\n",
      "QUESTION 3 \n",
      "\n",
      "Northwest\n",
      "1357 individuals are eligible today. 46 of them have incomplete disposition data.\n",
      "An additional 567 individuals will become eligible after their waiting period has ended. 35 of them have incomplete disposition data.\n",
      "17593 individuals will never be eligible.\n",
      "\n",
      "Suffolk\n",
      "62486 individuals are eligible today. 8898 of them have incomplete disposition data.\n",
      "An additional 17184 individuals will become eligible after their waiting period has ended. 7843 of them have incomplete disposition data.\n",
      "10770 individuals will never be eligible.\n",
      "\n",
      "Middlesex\n",
      "4111 cases are eligible today. 0 of them have incomplete disposition data.\n",
      "An additional 1443 cases will become eligible after their waiting period has ended. 0 of them have incomplete disposition data.\n",
      "158157 cases will never be eligible.\n",
      "\n"
     ]
    }
   ],
   "source": [
    "# Process answers for each region, for each question\n",
    "\n",
    "regionNames = ['Northwest', 'Suffolk', 'Middlesex']\n",
    "unit = 'individuals'\n",
    "\n",
    "for qcount, question in enumerate([q1, q2, q3]):\n",
    "    print('QUESTION', qcount + 1, '\\n')\n",
    "    for count, region in enumerate([nw, sf, ms]):\n",
    "        \n",
    "        regionName = regionNames[count]\n",
    "        df = region.copy()\n",
    "        totalIndividuals = df['Person ID'].nunique()\n",
    "\n",
    "        # Reduce dataframe to keep only the first row associated with each unique incident\n",
    "        df = df.groupby(['Person ID', 'Offense Date']).first().reset_index()\n",
    "\n",
    "        # Call function from above associated with the current question\n",
    "        eligible = question(df)\n",
    "\n",
    "        totalEligible = eligible['Person ID'].nunique()\n",
    "        neverEligible = totalIndividuals - totalEligible\n",
    "\n",
    "        eligible = eligible.copy()\n",
    "\n",
    "        # Derive per-person column to indicate how long each eligible person must wait for ALL of their incidents to have finished the waiting period\n",
    "        eligible['Highest_Years_Remaining'] = eligible.groupby(['Person ID'])['Inc_Years_Remaining'].transform('max')\n",
    "\n",
    "        # Derive per-person column to indicate if any of the person's incidents have some missing disposition data\n",
    "        eligible['Person_Missing_Any_Dispo'] = eligible.groupby(['Person ID'])['Inc_Missing_Any_Dispo'].transform('max')\n",
    "\n",
    "        eligibleToday = eligible.loc[\n",
    "          (eligible['Highest_Years_Remaining'] <= 0)\n",
    "        ]\n",
    "        eligibleNow = eligibleToday['Person ID'].nunique()\n",
    "\n",
    "        eligibleFuture = eligible.loc[\n",
    "          (eligible['Highest_Years_Remaining'] > 0)\n",
    "        ]\n",
    "        eligibleLater = eligibleFuture['Person ID'].nunique()\n",
    "\n",
    "        eligibleTodayIncomplete = eligibleToday.loc[\n",
    "          (eligibleToday['Person_Missing_Any_Dispo'] == True)\n",
    "        ]\n",
    "        eligibleNowIncomplete = eligibleTodayIncomplete['Person ID'].nunique()\n",
    "\n",
    "        eligibleFutureIncomplete = eligibleFuture.loc[\n",
    "          (eligibleFuture['Person_Missing_Any_Dispo'] == True)\n",
    "        ]\n",
    "        eligibleLaterIncomplete = eligibleFutureIncomplete['Person ID'].nunique()\n",
    "        \n",
    "        # Middlesex is discussed in terms of cases rather than individuals\n",
    "        if count == 2:\n",
    "            unit = 'cases'\n",
    "        \n",
    "        print(regionName)\n",
    "        print(eligibleNow, unit, 'are eligible today.', eligibleNowIncomplete, 'of them have incomplete disposition data.')\n",
    "        print('An additional', eligibleLater, unit, 'will become eligible after their waiting period has ended.', eligibleLaterIncomplete, 'of them have incomplete disposition data.')\n",
    "        print(neverEligible, unit, 'will never be eligible.\\n')\n",
    "        \n",
    "        unit = 'individuals'"
   ]
  },
  {
   "cell_type": "markdown",
   "metadata": {},
   "source": [
    "## Step 5: Output Summary Files"
   ]
  },
  {
   "cell_type": "markdown",
   "metadata": {},
   "source": [
    "These output files contain only a single column. Each row represents an individual (or case, for Middlesex), and contains a single all-incident code associated with that individual."
   ]
  },
  {
   "cell_type": "code",
   "execution_count": 371,
   "metadata": {},
   "outputs": [],
   "source": [
    "# Save the summary dataframes as csv files, overwriting them in the cleaned data folder\n",
    "nw_file = nw_summary.to_csv('../data/cleaned/interactive_northwestern.csv', index=False)\n",
    "ms_file = ms_summary.to_csv('../data/cleaned/interactive_middlesex.csv', index=False)\n",
    "sf_file = sf_summary.to_csv('../data/cleaned/interactive_suffolk.csv', index=False)"
   ]
  }
 ],
 "metadata": {
  "kernelspec": {
   "display_name": "Python 3",
   "language": "python",
   "name": "python3"
  },
  "language_info": {
   "codemirror_mode": {
    "name": "ipython",
    "version": 3
   },
   "file_extension": ".py",
   "mimetype": "text/x-python",
   "name": "python",
   "nbconvert_exporter": "python",
   "pygments_lexer": "ipython3",
   "version": "3.9.0"
  }
 },
 "nbformat": 4,
 "nbformat_minor": 4
}
